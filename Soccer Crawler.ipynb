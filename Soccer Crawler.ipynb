{
 "cells": [
  {
   "cell_type": "code",
   "execution_count": 71,
   "metadata": {},
   "outputs": [],
   "source": [
    "# @ Haosen He\n",
    "# Wake Forest Univeristy\n",
    "# RA work for Prof. Tin Cheuk Leung\n",
    "# May 2020\n",
    "from selenium import webdriver # A web driver like chromium is required.\n",
    "import time\n",
    "from bs4 import BeautifulSoup\n",
    "import pandas as pd"
   ]
  },
  {
   "cell_type": "code",
   "execution_count": 2,
   "metadata": {},
   "outputs": [],
   "source": [
    "wordlist=\"Afghanistan,Albania,Algeria,American Samoa,Andorra,Angola,Anguilla,Antigua and Barbuda,Argentina,Armenia,Aruba,Australia,Austria,Azerbaijan,Bahamas,Bahrain,Bangladesh,Barbados,Belarus,Belgium,Belize,Benin,Bermuda,Bhutan,Bohemia and Moravia,Bolivia,Bonaire,Bosnia and Herzegovina,Botswana,Brazil,British Virgin Islands,Brunei,Bulgaria,Burkina Faso,Burundi,Cambodia,Cameroon,Canada,Cape Verde,Cayman Islands,Central African Republic,Chad,Chile,China,CIS,Colombia,Comoros,Congo,Cook Islands,Costa Rica,Côte d Ivoire,Croatia,Cuba,Curacao,Cyprus,Czech Republic,Czechoslovakia,Denmark,Djibouti,Dominica,Dominican Republic,DR Congo,Dutch East Indies,Ecuador,Egypt,El Salvador,England,Equatorial Guinea,Eritrea,Estonia,Ethiopia,Faroe Islands,Fiji,Finland,France,French Guiana,FYR of Macedonia,Gabon,Gambia,Georgia,German Dem Republic,Germany,Ghana,Gibraltar,Great Britain,Greece,Grenada,Guadeloupe,Guam,Guatemala,Guinea,Guinea-Bissau,Guyana,Haiti,Honduras,Hong Kong,Hungary,Iceland,India,Indonesia,Iran,Iraq,Ireland,Israel,Italy,Jamaica,Japan,Jordan,Kazakhstan,Kenya,Kiribati,Kosovo,Kuwait,Kyrgyzstan,Laos,Latvia,Lebanon,Lesotho,Liberia,Libya,Liechtenstein,Lithania,Luxembourg,Macau,Madagascar,Malawi,Malaysia,Maldives,Mali,Malta,Martinique,Mauritania,Mauritius,Mayotte,Mexico,Micronesia,Moldova,Mongolia,Montenegro,Montserrat,Morocco,Mozambique,Myanmar,Namibia,Nauru,Nepal,Netherlands,Netherlands Antilles,New Caledonia,New Zealand,Nicaragua,Niger,Nigeria,Niue,North Korea,North Vietnam,North Yemen,Northern Ireland,Northern Mariana Islands,Norway,Oman,Pakistan,Palau,Palestine,Panama,Papua New Guinea,Paraguay,Peru,Philippines,Poland,Portugal,Puerto Rico,Qatar,RCS,Réunion,Romania,Russia,Rwanda,Saarland,Saint-Martin,Samoa,San Marino,Sansibar,São Tomé and Príncipe,Saudi Arabia,Scotland,Senegal,Serbia,Serbia and Montenegro,Seychelles,Sierra Leone,Singapore,Sint Maarten,Slovakia,Slovenia,Solomon Islands,Somalia,South Africa,South Korea,South Sudan,South Yemen,Soviet Union,Spain,Sri Lanka,St. Kitts and Nevis,St. Lucia,St. Pierre and Miquelon,St. Vincent and the Grenadines,Sudan,Suisse,Suriname,Swaziland,Sweden,Syria,Tahiti,Taiwan,Tajikistan,Tanzania,Thailand,Timor-Leste,Togo,Tonga,Trinidad and Tobago,Tunisia,Turkey,Turkmenistan,Turks and Caicos Islands,Tuvalu,Uganda,Ukraine,United Arab Emirates,Uruguay,US Virgin Islands,USA,Uzbekistan,Vanuatu,Venezuela,Vietnam,Wales,Yemen,Yugoslavia,Zambia,Zimbabwe,\"\n",
    "nations=[]\n",
    "for i in range(len(wordlist)):\n",
    "    if wordlist[i]==',':\n",
    "        nations.append(wordlist[temp:i])"
   ]
  },
  {
   "cell_type": "code",
   "execution_count": 73,
   "metadata": {},
   "outputs": [],
   "source": [
    "driver=webdriver.Chrome()\n",
    "driver.get(\"http://laenderspiel.cmuck.de/index.php?tlm=statistik&utlm=Team\")       #Open the page\n",
    "time.sleep(0.1)   \n",
    "driver.find_element_by_xpath(\"//img[@ src='grafik/flaggen/gbr.png']\").click();\n",
    "time.sleep(0.1)\n",
    "driver.find_element_by_id(\"navStatistik\").click()\n",
    "time.sleep(0.1)\n",
    "driver.find_element_by_link_text('Single Team').click()\n",
    "time.sleep(0.1)\n",
    "driver.find_element_by_id('MonatVon').send_keys('01.01.1800')\n",
    "driver.find_element_by_id('MonatBis').send_keys('10.05.2020')\n",
    "time.sleep(0.1)\n",
    "\n",
    "for n in nations:\n",
    "    data={\"1\":[], \"2\":[], \"3\":[], \"4\":[], \"5\":[], \"6\":[], \"7\":[], \"8\":[], \"9\":[], \"10\":[], \"11\":[]}\n",
    "    \n",
    "    driver.find_element_by_id(\"Nation\").send_keys(n)\n",
    "    time.sleep(0.1)\n",
    "    driver.find_element_by_id(\"SpieleSuchen\").click()\n",
    "    time.sleep(10)\n",
    "    html=driver.page_source\n",
    "    soup1=BeautifulSoup(html,'lxml')\n",
    "    stat_table=soup1.find(\"table\", id=\"ErgebnisResult\")\n",
    "\n",
    "    for tr in stat_table.findAll('tr'):\n",
    "        count=1\n",
    "        for td in tr.findAll('td'):\n",
    "            data[str(count)].append(td.getText().replace('\\n', '').replace('\\t', ''))\n",
    "            count+=1\n",
    "    nationfile=pd.DataFrame(data).drop(columns=['3', '7', '8', '9', '10', '11']) # columns we don't need\n",
    "    nationfile.to_csv (r'C:\\\\Users\\\\s1760\\\\Desktop\\\\Soccer\\\\'+ n +'.csv', index = False, header=True) # raw csv"
   ]
  },
  {
   "cell_type": "code",
   "execution_count": 135,
   "metadata": {},
   "outputs": [],
   "source": [
    "# organize collected data\n",
    "for i in nations:\n",
    "    tempdata=pd.read_csv('C:\\\\Users\\\\s1760\\\\Desktop\\\\Soccer\\\\'+ i +'.csv')\n",
    "    tempdata.rename(columns={\"1\": \"date\", \"2\": \"location\",\"4\": \"team1\",\"5\":\"result\",\"6\":\"team2\"},inplace=True)\n",
    "    team1score=[]\n",
    "    team2score=[]\n",
    "    winner=[]\n",
    "    for j in tempdata['result']:\n",
    "        j=j.replace(' - ', ',')\n",
    "        templs=j.split(',')\n",
    "        sc1=int(templs[0])\n",
    "        sc2=int(templs[1])\n",
    "        team1score.append(sc1)\n",
    "        team2score.append(sc2)\n",
    "        if sc1 > sc2:\n",
    "            winner.append('team1')\n",
    "        elif sc1<sc2:\n",
    "            winner.append('team2')\n",
    "        else:\n",
    "            winner.append(\"NaN\")\n",
    "    tempdata['team1score']=team1score\n",
    "    tempdata['team2score']=team2score\n",
    "    win=[]\n",
    "    for k in range(0, len(winner)):\n",
    "        if winner[k]=='team1':\n",
    "            win.append(tempdata['team1'][k])\n",
    "        elif winner[k]=='team2':\n",
    "            win.append(tempdata['team2'][k])\n",
    "        else:\n",
    "            win.append(\"NaN\")\n",
    "    tempdata['winner']=win\n",
    "    tempdata.to_csv (r'C:\\\\Users\\\\s1760\\\\Desktop\\\\Soccer2\\\\'+ i +'.csv', index = False, header=True)"
   ]
  },
  {
   "cell_type": "code",
   "execution_count": null,
   "metadata": {},
   "outputs": [],
   "source": []
  }
 ],
 "metadata": {
  "kernelspec": {
   "display_name": "Python 3",
   "language": "python",
   "name": "python3"
  },
  "language_info": {
   "codemirror_mode": {
    "name": "ipython",
    "version": 3
   },
   "file_extension": ".py",
   "mimetype": "text/x-python",
   "name": "python",
   "nbconvert_exporter": "python",
   "pygments_lexer": "ipython3",
   "version": "3.8.2"
  }
 },
 "nbformat": 4,
 "nbformat_minor": 4
}
